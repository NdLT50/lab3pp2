{
 "cells": [
  {
   "cell_type": "code",
   "execution_count": 11,
   "id": "3d62c0df",
   "metadata": {},
   "outputs": [
    {
     "name": "stdout",
     "output_type": "stream",
     "text": [
      "100\n",
      "2834.9523099999997\n"
     ]
    }
   ],
   "source": [
    "def to_ounces(grams):\n",
    "    return 28.3495231 * grams\n",
    "grams=int(input())\n",
    "print(to_ounces(grams))\n"
   ]
  },
  {
   "cell_type": "code",
   "execution_count": 10,
   "id": "88bf3aff",
   "metadata": {},
   "outputs": [
    {
     "name": "stdout",
     "output_type": "stream",
     "text": [
      "enter the temperature in fahrenheit : 125\n",
      "51.66666666666667\n"
     ]
    }
   ],
   "source": [
    "def to_celcius(F):\n",
    "    return (5 / 9) * (F - 32)\n",
    "temperature=int(input(\"enter the temperature in fahrenheit : \"))\n",
    "print(to_celcius(temperature))"
   ]
  },
  {
   "cell_type": "code",
   "execution_count": 3,
   "id": "2e7f84b3",
   "metadata": {},
   "outputs": [],
   "source": [
    "def filter_prime(numbers):\n",
    "    def is_prime(n):\n",
    "        if n < 2:\n",
    "            return False\n",
    "        for i in range(2, int(n ** 0.5) + 1):\n",
    "            if n % i == 0:\n",
    "                return False\n",
    "        return True\n",
    "    return [num for num in numbers if is_prime(num)]\n"
   ]
  },
  {
   "cell_type": "code",
   "execution_count": 38,
   "id": "5c825be2",
   "metadata": {},
   "outputs": [
    {
     "name": "stdout",
     "output_type": "stream",
     "text": [
      "{'gaa', 'aag', 'aga'}\n",
      "{'cab', 'bac', 'acb', 'cba', 'bca', 'abc'}\n"
     ]
    }
   ],
   "source": [
    "def string_permutations(s):\n",
    "    return set([''.join(p) for p in permutations(s)])\n",
    "print(string_permutations(\"aga\"))\n",
    "print(string_permutations(\"abc\"))"
   ]
  },
  {
   "cell_type": "code",
   "execution_count": 12,
   "id": "258ff04c",
   "metadata": {},
   "outputs": [
    {
     "name": "stdout",
     "output_type": "stream",
     "text": [
      "tasks this do Let's\n"
     ]
    }
   ],
   "source": [
    "def reverse_sentence(sentence):\n",
    "    temp=sentence.split()[::-1]\n",
    "    return ' '.join(temp)\n",
    "print(reverse_sentence(\"Let's do this tasks\"))"
   ]
  },
  {
   "cell_type": "code",
   "execution_count": 8,
   "id": "fa112c72",
   "metadata": {},
   "outputs": [
    {
     "name": "stdout",
     "output_type": "stream",
     "text": [
      "False\n",
      "False\n",
      "False\n",
      "True\n"
     ]
    }
   ],
   "source": [
    "def has_33(nums):\n",
    "    boolean=any(nums[i] == nums[i+1] == 3 for i in range(len(nums) - 1))\n",
    "    return boolean\n",
    "print(has_33([1,2,3,4,5]))\n",
    "print(has_33([33,33]))\n",
    "print(has_33([33,3,1,3]))\n",
    "print(has_33([3,3,0]))"
   ]
  },
  {
   "cell_type": "code",
   "execution_count": 9,
   "id": "d5e09f1d",
   "metadata": {},
   "outputs": [
    {
     "name": "stdout",
     "output_type": "stream",
     "text": [
      "True\n",
      "True\n",
      "False\n"
     ]
    }
   ],
   "source": [
    "def spy_game(nums):\n",
    "    aim = [0, 0, 7]\n",
    "    for i in nums:\n",
    "        if i == aim[0]:\n",
    "            aim.pop(0)\n",
    "        if not aim:\n",
    "            return True\n",
    "    return False\n",
    "print(spy_game([1,2,4,0,0,7,5]))\n",
    "print(spy_game([1,0,2,4,0,5,7]))\n",
    "print(spy_game([1,7,2,0,4,5,0]))"
   ]
  },
  {
   "cell_type": "code",
   "execution_count": 15,
   "id": "a61c1466",
   "metadata": {},
   "outputs": [
    {
     "name": "stdout",
     "output_type": "stream",
     "text": [
      "268.08234666666664\n",
      "radius can't be negative number\n",
      "radius can't be 0\n"
     ]
    }
   ],
   "source": [
    "def sphere_volume(radius):\n",
    "    if radius>0:\n",
    "        return (4/3) * 3.14159 * (radius ** 3)\n",
    "    elif radius<0:\n",
    "        return \"radius can't be negative number\"\n",
    "    else: \n",
    "        return \"radius can't be 0\"\n",
    "    return \n",
    "print(sphere_volume(4))\n",
    "print(sphere_volume(-5))\n",
    "print(sphere_volume(0))"
   ]
  },
  {
   "cell_type": "code",
   "execution_count": 17,
   "id": "8dd46fc8",
   "metadata": {},
   "outputs": [
    {
     "name": "stdout",
     "output_type": "stream",
     "text": [
      "[4, 0, 1, 2, 3, 7]\n"
     ]
    }
   ],
   "source": [
    "def unique_list(lst):\n",
    "    result = []\n",
    "    for item in lst:\n",
    "        if item not in result:\n",
    "            result.append(item)\n",
    "    return result\n",
    "print(unique_list([4,4,0,1,2,3,3,2,7]))"
   ]
  },
  {
   "cell_type": "code",
   "execution_count": 23,
   "id": "e9b4837d",
   "metadata": {},
   "outputs": [
    {
     "name": "stdout",
     "output_type": "stream",
     "text": [
      "True\n",
      "True\n",
      "False\n"
     ]
    }
   ],
   "source": [
    "def is_palindrome(s):\n",
    "    return s == s[::-1]\n",
    "print(is_palindrome(\"madam\"))\n",
    "print(is_palindrome(\"madam ada madam\"))\n",
    "print(is_palindrome(\"lets\"))"
   ]
  },
  {
   "cell_type": "code",
   "execution_count": 24,
   "id": "2b7d5a61",
   "metadata": {},
   "outputs": [
    {
     "name": "stdout",
     "output_type": "stream",
     "text": [
      "*******\n",
      "\n",
      "*****\n"
     ]
    }
   ],
   "source": [
    "def histogram(lst):\n",
    "    for num in lst:\n",
    "        print('*' * num)\n",
    "histogram([7,0,5])\n"
   ]
  },
  {
   "cell_type": "code",
   "execution_count": 29,
   "id": "a5d0b7c6",
   "metadata": {},
   "outputs": [
    {
     "name": "stdout",
     "output_type": "stream",
     "text": [
      "Hello! What is your name?\n",
      "Nurdaulet\n",
      "Well, Nurdaulet, I am thinking of a number between 1 and 20.\n",
      "Take a guess.\n",
      "14\n",
      "Your guess is too high.\n",
      "Take a guess.\n",
      "8\n",
      "Your guess is too low.\n",
      "Take a guess.\n",
      "12\n",
      "Your guess is too high.\n",
      "Take a guess.\n",
      "10\n",
      "Your guess is too high.\n",
      "Take a guess.\n",
      "9\n",
      "Good job, Nurdaulet! You guessed my number in 5 guesses!\n"
     ]
    }
   ],
   "source": [
    "from random import randint\n",
    "def guess_number():\n",
    "    name = input(\"Hello! What is your name?\\n\")\n",
    "    print(f\"Well, {name}, I am thinking of a number between 1 and 20.\")\n",
    "    number = random.randint(1, 20)\n",
    "    cnt = 0\n",
    "    while True:\n",
    "        guess = int(input(\"Take a guess.\\n\"))\n",
    "        cnt += 1\n",
    "        if guess < number:\n",
    "            print(\"Your guess is too low.\")\n",
    "        elif guess > number:\n",
    "            print(\"Your guess is too high.\")\n",
    "        else:\n",
    "            print(f\"Good job, {name}! You guessed my number in {cnt} guesses!\")\n",
    "            break\n",
    "guess_number()"
   ]
  },
  {
   "cell_type": "code",
   "execution_count": 33,
   "id": "3d94f72c",
   "metadata": {},
   "outputs": [
    {
     "name": "stdout",
     "output_type": "stream",
     "text": [
      "(23, 12)\n",
      "(2, 2)\n"
     ]
    }
   ],
   "source": [
    "import random\n",
    "def solve(numheads, numlegs):\n",
    "    for chickens in range(numheads + 1):\n",
    "        rabbits = numheads - chickens\n",
    "        if 2 * chickens + 4 * rabbits == numlegs:\n",
    "            return chickens, rabbits\n",
    "    return None\n",
    "print(solve(35,94))\n",
    "print(solve(4,12))"
   ]
  },
  {
   "cell_type": "code",
   "execution_count": null,
   "id": "72ee8cdd",
   "metadata": {},
   "outputs": [],
   "source": []
  }
 ],
 "metadata": {
  "kernelspec": {
   "display_name": "Python 3 (ipykernel)",
   "language": "python",
   "name": "python3"
  },
  "language_info": {
   "codemirror_mode": {
    "name": "ipython",
    "version": 3
   },
   "file_extension": ".py",
   "mimetype": "text/x-python",
   "name": "python",
   "nbconvert_exporter": "python",
   "pygments_lexer": "ipython3",
   "version": "3.11.4"
  }
 },
 "nbformat": 4,
 "nbformat_minor": 5
}
