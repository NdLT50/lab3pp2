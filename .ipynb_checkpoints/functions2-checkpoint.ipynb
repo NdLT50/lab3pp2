{
 "cells": [
  {
   "cell_type": "code",
   "execution_count": 18,
   "id": "dfffa34e",
   "metadata": {},
   "outputs": [],
   "source": [
    "movies = [\n",
    "{\"name\": \"Usual Suspects\", \"imdb\": 7.0,\"category\": \"Thriller\"},\n",
    "{\"name\": \"Hitman\",\"imdb\": 6.3,\"category\": \"Action\"},\n",
    "{\"name\": \"Dark Knight\",\"imdb\": 9.0,\"category\": \"Adventure\"},\n",
    "{\"name\": \"The Help\",\"imdb\": 8.0,\"category\": \"Drama\"},{\"name\": \"The Choice\",\"imdb\": 6.2,\"category\": \"Romance\"},\n",
    "{\"name\": \"Colonia\",\"imdb\": 7.4,\"category\": \"Romance\"},\n",
    "{\"name\": \"Love\",\"imdb\": 6.0,\"category\": \"Romance\"},\n",
    "{\"name\": \"Bride Wars\",\"imdb\": 5.4,\"category\": \"Romance\"},\n",
    "{\"name\": \"AlphaJet\",\"imdb\": 3.2,\"category\": \"War\"},\n",
    "{\"name\": \"Ringing Crime\",\"imdb\": 4.0,\"category\": \"Crime\"},\n",
    "{\"name\": \"Joking muck\",\"imdb\": 7.2,\"category\": \"Comedy\"},\n",
    "{\"name\": \"What is the name\",\"imdb\": 9.2,\"category\": \"Suspense\"},\n",
    "{\"name\": \"Detective\",\"imdb\": 7.0,\"category\": \"Suspense\"},\n",
    "{\"name\": \"Exam\",\"imdb\": 4.2,\"category\": \"Thriller\"},\n",
    "{\"name\": \"We Two\",\"imdb\": 7.2,\"category\": \"Romance\"}]\n",
    "\n",
    "def is_high_rated(movie_name):\n",
    "    for m in movies:\n",
    "        if m[\"name\"].lower() == movie_name.lower():\n",
    "            return m[\"imdb\"] > 5.5\n",
    "    return False \n",
    "\n",
    "def high_rated_movies(movies):\n",
    "    result = []\n",
    "    for m in movies:\n",
    "        if m[\"imdb\"] > 5.5:\n",
    "            result.append(m)\n",
    "    return result\n",
    "\n",
    "def movies_by_category(movies, category):\n",
    "    result = []\n",
    "    for m in movies:\n",
    "        if m[\"category\"].lower() == category.lower():\n",
    "            result.append(m)\n",
    "    return result\n",
    "\n",
    "def average_imdb(movies):\n",
    "    return sum(m[\"imdb\"] for m in movies) / len(movies)\n",
    "\n",
    "def average_imdb_by_titles(movies, movie_titles):\n",
    "    selected_movies = []\n",
    "    for m in movies:\n",
    "        if m[\"name\"] in movie_titles:\n",
    "            selected_movies.append(m)\n",
    "    return average_imdb(selected_movies)\n",
    "\n",
    "def average_imdb_by_category(movies, category):\n",
    "    category_movies = movies_by_category(movies, category)\n",
    "    return average_imdb(category_movies)\n"
   ]
  },
  {
   "cell_type": "code",
   "execution_count": 15,
   "id": "783fff9e",
   "metadata": {},
   "outputs": [
    {
     "name": "stdout",
     "output_type": "stream",
     "text": [
      "True\n",
      "False\n"
     ]
    }
   ],
   "source": [
    "print(is_high_rated(\"We two\"))\n",
    "print(is_high_rated(\"Exam\"))"
   ]
  },
  {
   "cell_type": "code",
   "execution_count": 16,
   "id": "efab01ba",
   "metadata": {},
   "outputs": [
    {
     "name": "stdout",
     "output_type": "stream",
     "text": [
      "[{'name': 'Usual Suspects', 'imdb': 7.0, 'category': 'Thriller'}, {'name': 'Hitman', 'imdb': 6.3, 'category': 'Action'}, {'name': 'Dark Knight', 'imdb': 9.0, 'category': 'Adventure'}, {'name': 'The Help', 'imdb': 8.0, 'category': 'Drama'}, {'name': 'The Choice', 'imdb': 6.2, 'category': 'Romance'}, {'name': 'Colonia', 'imdb': 7.4, 'category': 'Romance'}, {'name': 'Love', 'imdb': 6.0, 'category': 'Romance'}, {'name': 'Joking muck', 'imdb': 7.2, 'category': 'Comedy'}, {'name': 'What is the name', 'imdb': 9.2, 'category': 'Suspense'}, {'name': 'Detective', 'imdb': 7.0, 'category': 'Suspense'}, {'name': 'We Two', 'imdb': 7.2, 'category': 'Romance'}]\n"
     ]
    }
   ],
   "source": [
    "print(high_rated_movies(movies))"
   ]
  },
  {
   "cell_type": "code",
   "execution_count": 19,
   "id": "fd536218",
   "metadata": {},
   "outputs": [
    {
     "name": "stdout",
     "output_type": "stream",
     "text": [
      "[{'name': 'AlphaJet', 'imdb': 3.2, 'category': 'War'}]\n"
     ]
    }
   ],
   "source": [
    "print(movies_by_category(movies, \"War\"))"
   ]
  },
  {
   "cell_type": "code",
   "execution_count": 20,
   "id": "7b93385f",
   "metadata": {},
   "outputs": [
    {
     "name": "stdout",
     "output_type": "stream",
     "text": [
      "8.133333333333333\n"
     ]
    }
   ],
   "source": [
    "print(average_imdb_by_titles(movies, [\"Dark Knight\", \"The Help\", \"Colonia\"]))"
   ]
  },
  {
   "cell_type": "code",
   "execution_count": 21,
   "id": "1c0bb989",
   "metadata": {},
   "outputs": [
    {
     "name": "stdout",
     "output_type": "stream",
     "text": [
      "6.44\n"
     ]
    }
   ],
   "source": [
    "print(average_imdb_by_category(movies, \"Romance\"))\n"
   ]
  },
  {
   "cell_type": "code",
   "execution_count": null,
   "id": "b311e5eb",
   "metadata": {},
   "outputs": [],
   "source": []
  },
  {
   "cell_type": "code",
   "execution_count": null,
   "id": "a39d048e",
   "metadata": {},
   "outputs": [],
   "source": []
  },
  {
   "cell_type": "code",
   "execution_count": 1,
   "id": "bede62a0",
   "metadata": {},
   "outputs": [],
   "source": []
  }
 ],
 "metadata": {
  "kernelspec": {
   "display_name": "Python 3 (ipykernel)",
   "language": "python",
   "name": "python3"
  },
  "language_info": {
   "codemirror_mode": {
    "name": "ipython",
    "version": 3
   },
   "file_extension": ".py",
   "mimetype": "text/x-python",
   "name": "python",
   "nbconvert_exporter": "python",
   "pygments_lexer": "ipython3",
   "version": "3.11.4"
  }
 },
 "nbformat": 4,
 "nbformat_minor": 5
}
