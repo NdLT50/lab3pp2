{
 "cells": [
  {
   "cell_type": "code",
   "execution_count": 6,
   "id": "113ff9b3",
   "metadata": {},
   "outputs": [
    {
     "name": "stdout",
     "output_type": "stream",
     "text": [
      "Please enter your string : NnnasdS\n",
      "<built-in method upper of str object at 0x0000025405457830>\n"
     ]
    }
   ],
   "source": [
    "class MyClass:\n",
    "    def __init__(self):\n",
    "        self.x = \"\"\n",
    "    def getString(self):\n",
    "        self.x = input(\"Please enter your string: \")\n",
    "    def printString(self):\n",
    "        print(self.x.upper())\n",
    "\n",
    "obj = MyClass()\n",
    "obj.getString()  \n",
    "obj.printString()  \n"
   ]
  },
  {
   "cell_type": "code",
   "execution_count": null,
   "id": "9311597d",
   "metadata": {},
   "outputs": [],
   "source": []
  }
 ],
 "metadata": {
  "kernelspec": {
   "display_name": "Python 3 (ipykernel)",
   "language": "python",
   "name": "python3"
  },
  "language_info": {
   "codemirror_mode": {
    "name": "ipython",
    "version": 3
   },
   "file_extension": ".py",
   "mimetype": "text/x-python",
   "name": "python",
   "nbconvert_exporter": "python",
   "pygments_lexer": "ipython3",
   "version": "3.11.4"
  }
 },
 "nbformat": 4,
 "nbformat_minor": 5
}
