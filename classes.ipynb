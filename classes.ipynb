{
 "cells": [
  {
   "cell_type": "code",
   "execution_count": 9,
   "id": "b8fbf624",
   "metadata": {},
   "outputs": [
    {
     "name": "stdout",
     "output_type": "stream",
     "text": [
      "Please enter your string: My first task is completed\n",
      "MY FIRST TASK IS COMPLETED\n"
     ]
    }
   ],
   "source": [
    "class MyClass:\n",
    "    def __init__(self,x = \"\"):\n",
    "        pass\n",
    "    def getString(self):\n",
    "        self.x = input(\"Please enter your string: \")\n",
    "    def printString(self):\n",
    "        print(self.x.upper())\n",
    "\n",
    "obj = MyClass()\n",
    "obj.getString()  \n",
    "obj.printString()  \n"
   ]
  },
  {
   "cell_type": "code",
   "execution_count": 19,
   "id": "b4a401aa",
   "metadata": {},
   "outputs": [
    {
     "name": "stdout",
     "output_type": "stream",
     "text": [
      "16\n"
     ]
    }
   ],
   "source": [
    "class Shape:\n",
    "    def __init__(self):\n",
    "        self.area=0\n",
    "    def printArea(self):\n",
    "        print(self.area)\n",
    "    \n",
    "class Square(Shape):\n",
    "    def __init__(self,length):\n",
    "        self.length=length\n",
    "        self.area=length**2\n",
    "    \n",
    "        \n",
    "obj = Square(4)\n",
    "obj.printArea()\n",
    "\n",
    "        "
   ]
  },
  {
   "cell_type": "code",
   "execution_count": 22,
   "id": "aef0c21e",
   "metadata": {},
   "outputs": [
    {
     "name": "stdout",
     "output_type": "stream",
     "text": [
      "12\n"
     ]
    }
   ],
   "source": [
    "class Rectangle(Shape):\n",
    "    def __init__(self,length,width):\n",
    "        self.length=length\n",
    "        self.width=width\n",
    "        self.area=length*width\n",
    "obj = Rectangle(4,3)\n",
    "obj.printArea()"
   ]
  },
  {
   "cell_type": "code",
   "execution_count": 52,
   "id": "5c54352a",
   "metadata": {},
   "outputs": [
    {
     "name": "stdout",
     "output_type": "stream",
     "text": [
      "coordinates of a point : (1;4) \n",
      "coordinates of a point : (3;8) \n",
      "coordinates of a point : (-5;0) \n",
      "Distance between two points =11.314\n"
     ]
    }
   ],
   "source": [
    "import math\n",
    "\n",
    "class Point:\n",
    "    def __init__(self,x,y):\n",
    "        self.x=x\n",
    "        self.y=y\n",
    "    def show(self):\n",
    "        print(f\"coordinates of a point : ({self.x};{self.y}) \")\n",
    "    def move(self):\n",
    "        self.x=int(input(\"input new value for x: \"))\n",
    "        self.y=int(input(\"input new value for y: \"))\n",
    "        print(f\"your coordinates have changed to ({self.x};{self.y})\")\n",
    "    def dist(self,second_point):\n",
    "        distance=math.sqrt((second_point.x-self.x)**2 + (second_point.y-self.y)**2)\n",
    "        print(f\"Distance between two points ={distance:.3f}\")\n",
    "    \n",
    "obj_1=Point(1,4)\n",
    "obj_1.show()\n",
    "obj_2=Point(3,8)\n",
    "obj_2.show()\n",
    "obj_1=Point(-5,0)\n",
    "obj_1.show()\n",
    "obj_1.dist(obj_2)\n",
    "\n",
    "    "
   ]
  },
  {
   "cell_type": "code",
   "execution_count": 61,
   "id": "094a70b4",
   "metadata": {},
   "outputs": [
    {
     "name": "stdout",
     "output_type": "stream",
     "text": [
      "payment of 2500 has succesfully arrived in your account\n",
      "You can not deposit negative amount of money!\n",
      "You dont have enougth money in your bank account\n",
      "you have $500 in your account\n"
     ]
    }
   ],
   "source": [
    "class Account:\n",
    "    def __init__(self,owner,balance):\n",
    "        self.owner=owner\n",
    "        self.balance=balance\n",
    "    def deposit(self,amount):\n",
    "        if amount>0:\n",
    "            self.balance+=amount\n",
    "            print(f\"payment of {amount} has succesfully arrived in your account\")\n",
    "        else:\n",
    "            print(\"You can not deposit negative amount of money!\")\n",
    "    def withdraw(self,amount):\n",
    "       if self.balance>=amount:\n",
    "        self.balance-=amount \n",
    "       else :\n",
    "        print(\"You dont have enougth money in your bank account\")\n",
    "    def checkBalance(self):\n",
    "        print(f\"you have ${self.balance} in your account\")\n",
    "        \n",
    "Katya=Account(\"Katya\",1000)\n",
    "Katya.deposit(2500)\n",
    "Katya.deposit(-2500)\n",
    "Katya.withdraw(4500)\n",
    "Katya.withdraw(3000)\n",
    "Katya.checkBalance()\n",
    "\n"
   ]
  },
  {
   "cell_type": "code",
   "execution_count": 66,
   "id": "3872d097",
   "metadata": {},
   "outputs": [
    {
     "name": "stdout",
     "output_type": "stream",
     "text": [
      "Prime numbers: [2, 3, 5, 7]\n"
     ]
    }
   ],
   "source": [
    "numbers=[i for i in range(1,11)]\n",
    "is_prime = lambda n: n > 1 and all(n % i != 0 for i in range(2, int(n ** 0.5) + 1))\n",
    "prime_numbers = list(filter(lambda x: is_prime(x), numbers))\n",
    "print(\"Prime numbers:\", prime_numbers)"
   ]
  },
  {
   "cell_type": "code",
   "execution_count": null,
   "id": "6ece3f8c",
   "metadata": {},
   "outputs": [],
   "source": []
  }
 ],
 "metadata": {
  "kernelspec": {
   "display_name": "Python 3 (ipykernel)",
   "language": "python",
   "name": "python3"
  },
  "language_info": {
   "codemirror_mode": {
    "name": "ipython",
    "version": 3
   },
   "file_extension": ".py",
   "mimetype": "text/x-python",
   "name": "python",
   "nbconvert_exporter": "python",
   "pygments_lexer": "ipython3",
   "version": "3.11.4"
  }
 },
 "nbformat": 4,
 "nbformat_minor": 5
}
